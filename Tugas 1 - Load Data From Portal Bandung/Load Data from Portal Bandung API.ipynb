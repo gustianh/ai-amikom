{
 "cells": [
  {
   "cell_type": "code",
   "execution_count": 1,
   "id": "34479528",
   "metadata": {},
   "outputs": [],
   "source": [
    "import json"
   ]
  },
  {
   "cell_type": "code",
   "execution_count": 2,
   "id": "5651dd71",
   "metadata": {},
   "outputs": [],
   "source": [
    "with open (\"2021-data persentase tingkat hunian hotel.json\") as f:\n",
    "    data = json.load(f)"
   ]
  },
  {
   "cell_type": "code",
   "execution_count": 3,
   "id": "97a6db62",
   "metadata": {},
   "outputs": [
    {
     "data": {
      "text/plain": [
       "{'metadata': {'data': {'id': '2084bd4d-9518-4a95-9b69-e0cc84eb60e0',\n",
       "   'name': 'Tahun 2021 - Data Persentase Tingkat Hunian Hotel'},\n",
       "  'dataset': {'id': '2cc549dd-aba7-4503-921a-ccfe33062f46',\n",
       "   'name': 'Persentase Tingkat Hunian Hotel di Kota Bandung'},\n",
       "  'organization': {'id': '75900074-be35-4f4b-8a31-e76a776c37ab',\n",
       "   'name': 'Dinas Kebudayaan dan Pariwisata'},\n",
       "  'group': {'id': '859a9e4b-c813-499b-92bb-0e21d30108da',\n",
       "   'name': 'Ekonomi dan Keuangan'},\n",
       "  'format': 'CSV',\n",
       "  'created': '2022-03-07 06:21:54',\n",
       "  'file_url': 'http://satudata.bandung.go.id/dataset/2cc549dd-aba7-4503-921a-ccfe33062f46/resource/2084bd4d-9518-4a95-9b69-e0cc84eb60e0/download/tahun-2021---data-persentase-tingkat-hunian-hotel.csv',\n",
       "  'last_modified': '2022-03-07 06:21:53',\n",
       "  'row_total': 4},\n",
       " 'data': [{'tahun': 2018, 'persentase_tingkat_hunian': 67.8},\n",
       "  {'tahun': 2019, 'persentase_tingkat_hunian': 56.31},\n",
       "  {'tahun': 2020, 'persentase_tingkat_hunian': 38.2},\n",
       "  {'tahun': 2021, 'persentase_tingkat_hunian': 35.01}]}"
      ]
     },
     "execution_count": 3,
     "metadata": {},
     "output_type": "execute_result"
    }
   ],
   "source": [
    "data"
   ]
  },
  {
   "cell_type": "markdown",
   "id": "65951270",
   "metadata": {},
   "source": [
    "converting to pandas dataframe"
   ]
  },
  {
   "cell_type": "code",
   "execution_count": 9,
   "id": "e77d637a",
   "metadata": {},
   "outputs": [
    {
     "name": "stdout",
     "output_type": "stream",
     "text": [
      "0\n",
      "1\n"
     ]
    }
   ],
   "source": [
    "for i in range(0, len(data)):\n",
    "    print(i)"
   ]
  },
  {
   "cell_type": "code",
   "execution_count": 10,
   "id": "d5a65986",
   "metadata": {},
   "outputs": [],
   "source": [
    "import pandas as pd\n",
    "df = pd.DataFrame(columns=[\"tahun\",\"persentase_tingkat_hunian\"])"
   ]
  },
  {
   "cell_type": "code",
   "execution_count": 11,
   "id": "b8e7104e",
   "metadata": {},
   "outputs": [
    {
     "data": {
      "text/html": [
       "<div>\n",
       "<style scoped>\n",
       "    .dataframe tbody tr th:only-of-type {\n",
       "        vertical-align: middle;\n",
       "    }\n",
       "\n",
       "    .dataframe tbody tr th {\n",
       "        vertical-align: top;\n",
       "    }\n",
       "\n",
       "    .dataframe thead th {\n",
       "        text-align: right;\n",
       "    }\n",
       "</style>\n",
       "<table border=\"1\" class=\"dataframe\">\n",
       "  <thead>\n",
       "    <tr style=\"text-align: right;\">\n",
       "      <th></th>\n",
       "      <th>tahun</th>\n",
       "      <th>persentase_tingkat_hunian</th>\n",
       "    </tr>\n",
       "  </thead>\n",
       "  <tbody>\n",
       "  </tbody>\n",
       "</table>\n",
       "</div>"
      ],
      "text/plain": [
       "Empty DataFrame\n",
       "Columns: [tahun, persentase_tingkat_hunian]\n",
       "Index: []"
      ]
     },
     "execution_count": 11,
     "metadata": {},
     "output_type": "execute_result"
    }
   ],
   "source": [
    "df"
   ]
  },
  {
   "cell_type": "code",
   "execution_count": null,
   "id": "c496348d",
   "metadata": {},
   "outputs": [],
   "source": []
  }
 ],
 "metadata": {
  "kernelspec": {
   "display_name": "Python 3 (ipykernel)",
   "language": "python",
   "name": "python3"
  },
  "language_info": {
   "codemirror_mode": {
    "name": "ipython",
    "version": 3
   },
   "file_extension": ".py",
   "mimetype": "text/x-python",
   "name": "python",
   "nbconvert_exporter": "python",
   "pygments_lexer": "ipython3",
   "version": "3.10.9"
  }
 },
 "nbformat": 4,
 "nbformat_minor": 5
}
