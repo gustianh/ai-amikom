{
 "cells": [
  {
   "cell_type": "markdown",
   "id": "6486f07c",
   "metadata": {},
   "source": [
    "# **Load Dataset**\n",
    "\n",
    "Nama dataset berada di kolom ref pada tabel output pencarian. "
   ]
  },
  {
   "cell_type": "code",
   "execution_count": 2,
   "id": "79580043",
   "metadata": {},
   "outputs": [
    {
     "name": "stdout",
     "output_type": "stream",
     "text": [
      "ref                                                      title                                             size  lastUpdated          downloadCount  voteCount  usabilityRating  \n",
      "-------------------------------------------------------  -----------------------------------------------  -----  -------------------  -------------  ---------  ---------------  \n",
      "slehkyi/extended-football-stats-for-european-leagues-xg  Football Data: Expected Goals and Other Metrics    1MB  2020-08-02 17:28:39           5546        145  1.0              \n",
      "vivovinco/nba-player-stats                               2021-2022 NBA Player Stats                        48KB  2022-06-18 07:52:52           5769        116  1.0              \n",
      "sanjeetsinghnaik/most-expensive-footballers-2021         Most Expensive Footballers 2021                   13KB  2021-12-03 20:28:03           1831         46  1.0              \n",
      "shreyanshkhandelwal/goal-dataset-top-5-european-leagues  Goal Dataset - Top 5 European Leagues            174KB  2021-05-23 21:20:09           3662         20  0.5294118        \n",
      "secareanualin/football-events                            Football Events                                   21MB  2017-01-25 01:19:19          25209        616  0.7647059        \n",
      "vivovinco/20222023-nba-player-stats-regular              2022-2023 NBA Player Stats                        27KB  2023-02-13 19:31:39           1626         48  1.0              \n",
      "vivovinco/20212022-football-team-stats                   2021-2022 Football Team Stats                      6KB  2022-05-29 07:48:12           1388         65  1.0              \n",
      "vivovinco/20212022-football-player-stats                 2021-2022 Football Player Stats                  627KB  2022-05-29 12:13:07           3201         95  1.0              \n",
      "yamaerenay/most-popular-soccer-leagues                   Most Popular Soccer Leagues                       30KB  2020-08-01 16:59:30            199          6  1.0              \n",
      "vivovinco/20222023-football-player-stats                 2022-2023 Football Player Stats                  470KB  2023-02-12 17:01:33           1560         54  1.0              \n",
      "chaibapat/fantasy-premier-league                         Fantasy Premier League - 2016/2017               476MB  2017-05-16 18:56:26           1536         32  0.85294116       \n",
      "sanjeetsinghnaik/premier-league-matches-20142020         Premier League Matches 2014-2020                 227KB  2021-12-21 19:08:15            402         22  0.9117647        \n",
      "sanjeetsinghnaik/la-liga-match-data                      La Liga Match Data                               226KB  2022-01-02 18:21:11            420         21  0.9117647        \n",
      "eladsil/football-games-odds                              Football Matches Odds                              5MB  2018-10-15 08:15:14            849         24  0.8235294        \n",
      "andrew1456/202122-nba-season-per-game-stats              2021-22 NBA Season Per Game Stats                 29KB  2022-09-01 15:34:59            115         11  0.9411765        \n",
      "vivovinco/20222023-football-team-stats                   2022-2023 Football Team Stats                      6KB  2023-02-12 15:28:51            454         24  1.0              \n",
      "jashsheth5/indepth-soccer-statistics-xg-xa-and-more      In-depth soccer statistics: xG, xA and more        1MB  2020-09-26 05:36:58            370          9  0.9411765        \n",
      "mcarujo/european-football-season-202223                  European Football Season 2022/23                 719KB  2023-03-22 14:21:13            600         28  0.7647059        \n",
      "tanisha1416/big-5-european-leagues-20212022              Football League Dataset (2021-2022)                6KB  2022-03-26 16:31:21            333          8  0.9411765        \n",
      "thomasjohnmahler/nba-player-season-stats                 NBA Player Season Stats                            1MB  2022-05-16 22:59:23            258         10  0.7058824        \n"
     ]
    }
   ],
   "source": [
    "!kaggle datasets list -s \"goal leagues\""
   ]
  },
  {
   "cell_type": "markdown",
   "id": "40e6fd55",
   "metadata": {},
   "source": [
    "## **Mendownload Dataset**\n",
    "\n",
    "Kita akan mengunduh dataset ```Goal Dataset – Top 5 European Leagues``` , maka\n",
    "nama dataset adalah shreyanshkhandelwal/goal-dataset-top-5-european-leagues.\n"
   ]
  },
  {
   "cell_type": "code",
   "execution_count": 3,
   "id": "7cd1f18e",
   "metadata": {},
   "outputs": [
    {
     "name": "stdout",
     "output_type": "stream",
     "text": [
      "Downloading goal-dataset-top-5-european-leagues.zip to C:\\Users\\Gustian Herlambang\\Learn\\ai-amikom\n",
      "\n"
     ]
    },
    {
     "name": "stderr",
     "output_type": "stream",
     "text": [
      "\n",
      "  0%|          | 0.00/174k [00:00<?, ?B/s]\n",
      "100%|##########| 174k/174k [00:00<00:00, 975kB/s]\n",
      "100%|##########| 174k/174k [00:00<00:00, 975kB/s]\n"
     ]
    }
   ],
   "source": [
    "!kaggle datasets download shreyanshkhandelwal/goal-dataset-top-5-european-leagues"
   ]
  },
  {
   "cell_type": "markdown",
   "id": "dcdeb66a",
   "metadata": {},
   "source": [
    "## **Ekstrak Dataset ```.zip``` dengan perintah ```!unzip```**"
   ]
  },
  {
   "cell_type": "code",
   "execution_count": 5,
   "id": "59a449b0",
   "metadata": {},
   "outputs": [
    {
     "name": "stderr",
     "output_type": "stream",
     "text": [
      "'unzip' is not recognized as an internal or external command,\n",
      "operable program or batch file.\n"
     ]
    }
   ],
   "source": [
    "!unzip goal-dataset-top-5-european-leagues.zip"
   ]
  },
  {
   "cell_type": "markdown",
   "id": "579b91dd",
   "metadata": {},
   "source": [
    "# **A. Membaca Dataset dengan ```Pandas```**\n",
    "\n",
    "Import pandas terlebih dahulu"
   ]
  },
  {
   "cell_type": "code",
   "execution_count": 6,
   "id": "e8ab6b2e",
   "metadata": {},
   "outputs": [],
   "source": [
    "import pandas as pd\n",
    "import numpy as np"
   ]
  },
  {
   "cell_type": "code",
   "execution_count": null,
   "id": "5fbb30ef",
   "metadata": {},
   "outputs": [],
   "source": []
  }
 ],
 "metadata": {
  "kernelspec": {
   "display_name": "Python 3 (ipykernel)",
   "language": "python",
   "name": "python3"
  },
  "language_info": {
   "codemirror_mode": {
    "name": "ipython",
    "version": 3
   },
   "file_extension": ".py",
   "mimetype": "text/x-python",
   "name": "python",
   "nbconvert_exporter": "python",
   "pygments_lexer": "ipython3",
   "version": "3.10.9"
  }
 },
 "nbformat": 4,
 "nbformat_minor": 5
}
